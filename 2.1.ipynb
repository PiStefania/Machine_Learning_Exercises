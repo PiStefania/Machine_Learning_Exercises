{
 "cells": [
  {
   "cell_type": "code",
   "execution_count": 1,
   "metadata": {},
   "outputs": [],
   "source": [
    "import numpy as np\n",
    "import matplotlib.pyplot as plt\n",
    "from sklearn.model_selection import KFold\n",
    "import time\n",
    "import csv"
   ]
  },
  {
   "cell_type": "code",
   "execution_count": 2,
   "metadata": {},
   "outputs": [],
   "source": [
    "def load_data(file_name):\n",
    "\tlines = list()\n",
    "\tdataset = list()\n",
    "\t# Open file\n",
    "\twith open(file_name, 'rt') as f:\n",
    "\t\treader = csv.reader(f, delimiter=',')\n",
    "\t\t# Save each row in list lines\n",
    "\t\tfor row in reader:\n",
    "\t\t\tif (row != []):\n",
    "\t\t\t\tlines.append(row)\n",
    "\t# Iterate the list\n",
    "\tfor line in lines:\n",
    "\t\td = list()\n",
    "\t\t# Append the data to the list d\n",
    "\t\tfor item in line[0:len(line)-1]:\n",
    "\t\t\td.append(float(item))\n",
    "\t\t# If the file is iris data then translate the classes to 0,1,2 and append to the list d\n",
    "\t\tif (file_name=='UCIdata-exercise1/iris.data'):\n",
    "\t\t\td.append(0*(line[len(line)-1]=='Iris-setosa') +\n",
    "\t\t\t\t     1*(line[len(line)-1]=='Iris-versicolor') +\n",
    "\t\t\t\t     2*(line[len(line)-1]=='Iris-virginica'))\n",
    "\t\t# Otherwise append the 0 or 1 of the pima dataset\n",
    "\t\telse:\n",
    "\t\t\td.append(float(line[len(line)-1]))\n",
    "\t\t# Add this data to the dataset.\n",
    "\t\tdataset.append(d)\n",
    "\t# Return the results as 2 different arrays. The first is the data and the second are the classes.\n",
    "\treturn np.array(dataset)[:,0:len(dataset[0])-1], np.array(dataset)[:,len(dataset[0])-1]"
   ]
  },
  {
   "cell_type": "code",
   "execution_count": 3,
   "metadata": {},
   "outputs": [],
   "source": [
    "def knn(k, train_data, train_labels, test_data, test_labels):\n",
    "\t# Workspace initialization\n",
    "\tn_train = len(train_data)\n",
    "\tif k>n_train:\n",
    "\t\tprint(\"The chosen k is smaller than the train partition\")\n",
    "\t\tk = n_train\n",
    "\tdim_train = len(train_data[0])\n",
    "\tn_test = len(test_data)\n",
    "\tdim_test = len(test_data[0])\n",
    "\t# Array that stores the distances of a test point from all the train points.\n",
    "\tdistances = np.ones([n_train, n_test])\n",
    "\t# Calculate the Euclidian distances for the array distances.\n",
    "\tfor i in range(0, n_test):\n",
    "\t\tX = np.array(train_data - np.dot(np.ones([n_train,1]), test_data[i,:].reshape([1,len(test_data[0])])))\n",
    "\t\tdistances[:,i] = np.sqrt(np.sum(X**2, axis=1))\n",
    "\t# Create the array data which contains the distances array.\n",
    "\t# The rows represent training points and columns the test points.\n",
    "\t# In the last column we add the class that each train point belongs to.\n",
    "\tdata = np.column_stack([distances,train_labels])\n",
    "\tcount = 0\n",
    "\tfor i in range(0,n_test):\n",
    "\t\t# We sort the array data for every column (test point) by rows.\n",
    "\t\tdata = np.array(sorted(data, key=lambda x: x[i]))\n",
    "\t\t# Keep the first k elements and count the frequency of appearence of each class.\n",
    "\t\t# prediction is the biggest of these frequencies.\n",
    "\t\tprediction = np.argmax(np.bincount([int(x) for x in data[0:k,n_test]]))\n",
    "\t\t# Calculate the number of correct classifications\n",
    "\t\tif (prediction == test_labels[i]):\n",
    "\t\t\tcount += 1\n",
    "\t# Return the classification accuracy (percentage)\n",
    "\treturn (count/n_test)*100\n",
    "\n",
    "def knn_accuracy(max_k, data, labels):\n",
    "\t# Array with the accuracies with regards to k\n",
    "\taccuracy = np.zeros([int(max_k/2), 1])\n",
    "\t# Iterate every odd k\n",
    "\tfor k in range(1, max_k, 2):\n",
    "\t\ttemp_accuracy = list()\n",
    "\t\t# K-Fold parameters\n",
    "\t\tkf = KFold(n_splits=10, shuffle=True)\n",
    "\t\tkf.get_n_splits(data)\n",
    "\t\tfor train_index, test_index in kf.split(data):\n",
    "\t\t\t# Arrange the data in arrays\n",
    "\t\t\tdata_train, data_test = data[train_index], data[test_index]\n",
    "\t\t\tlabels_train, labels_test = labels[train_index], labels[test_index]\n",
    "\t\t\t# Run the knn algorithm for this fold and save the accuracy\n",
    "\t\t\ttemp_accuracy.append(knn(k, data_train, labels_train, data_test, labels_test))\n",
    "\t\t# Calculate the mean accuracy for this k for all folds\n",
    "\t\taccuracy[int((k-1)/2)] = np.mean(temp_accuracy)\n",
    "\t# Return the array containing the accuracy for each k.\n",
    "\treturn accuracy"
   ]
  },
  {
   "cell_type": "code",
   "execution_count": 4,
   "metadata": {},
   "outputs": [],
   "source": [
    "# Load data\n",
    "iris_data, iris_labels = load_data('UCIdata-exercise1/iris.data')\n",
    "pima_data, pima_labels = load_data('UCIdata-exercise1/pima-indians-diabetes.data')"
   ]
  },
  {
   "cell_type": "code",
   "execution_count": 5,
   "metadata": {},
   "outputs": [],
   "source": [
    "# Initialize workspace\n",
    "max_k = 102"
   ]
  },
  {
   "cell_type": "code",
   "execution_count": 6,
   "metadata": {},
   "outputs": [],
   "source": [
    "# Call the function calculating the accuracy array for each dataset.\n",
    "t1 = time.time()\n",
    "iris_accuracy = knn_accuracy(max_k, iris_data, iris_labels)\n",
    "pima_accuracy = knn_accuracy(max_k, pima_data, pima_labels)\n",
    "t2 = time.time()"
   ]
  },
  {
   "cell_type": "code",
   "execution_count": 7,
   "metadata": {},
   "outputs": [
    {
     "name": "stdout",
     "output_type": "stream",
     "text": [
      "kNN execution Time :  36.72399973869324\n",
      "Best k for iris data :  5 \n",
      "With Accuracy :  97.33333333333334\n",
      "Best k for pima data :  15 \n",
      "With Accuracy :  74.74025974025975\n"
     ]
    },
    {
     "data": {
      "image/png": "[encoded data removed]",
      "text/plain": [
       "<Figure size 648x432 with 1 Axes>"
      ]
     },
     "metadata": {
      "needs_background": "light"
     },
     "output_type": "display_data"
    }
   ],
   "source": [
    "# Plot/Print Results.\n",
    "print('kNN execution Time : ', t2 - t1)\n",
    "k = np.argmax(iris_accuracy)\n",
    "print('Best k for iris data : ',2*k+1,'\\nWith Accuracy : ',float(iris_accuracy[k]))\n",
    "k = np.argmax(pima_accuracy)\n",
    "print('Best k for pima data : ',2*k+1,'\\nWith Accuracy : ',float(pima_accuracy[k]))\n",
    "k = np.arange(1, max_k, 2)\n",
    "plt.rcParams[\"figure.figsize\"] = [9,6]\n",
    "plt.plot(k, iris_accuracy, '-b')\n",
    "plt.plot(k, iris_accuracy, 'ro', markersize=4)\n",
    "plt.plot(k, pima_accuracy, '-c')\n",
    "plt.plot(k, pima_accuracy, 'ro', markersize=4)\n",
    "plt.show()"
   ]
  }
 ],
 "metadata": {
  "kernelspec": {
   "display_name": "Python 3",
   "language": "python",
   "name": "python3"
  },
  "language_info": {
   "codemirror_mode": {
    "name": "ipython",
    "version": 3
   },
   "file_extension": ".py",
   "mimetype": "text/x-python",
   "name": "python",
   "nbconvert_exporter": "python",
   "pygments_lexer": "ipython3",
   "version": "3.6.8"
  }
 },
 "nbformat": 4,
 "nbformat_minor": 2
}
