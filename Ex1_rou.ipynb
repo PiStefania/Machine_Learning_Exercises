{
 "cells": [
  {
   "cell_type": "code",
   "execution_count": 2,
   "metadata": {},
   "outputs": [],
   "source": [
    "import numpy as np\n",
    "from numpy.polynomial import polynomial as P\n",
    "from matplotlib import pyplot as plt"
   ]
  },
  {
   "cell_type": "markdown",
   "metadata": {},
   "source": [
    "# Problem 1 - Erwthma 1"
   ]
  },
  {
   "cell_type": "code",
   "execution_count": 22,
   "metadata": {},
   "outputs": [],
   "source": [
    "def white_noise(number, variance):\n",
    "    noise = np.random.normal(loc=0.0, scale=variance, size=number)\n",
    "    return noise\n",
    "\n",
    "def create_x(number):\n",
    "    lin = np.linspace(start=0.0, stop=2.0, num=number)\n",
    "    return lin\n",
    "\n",
    "def create_y(x, theta):\n",
    "    x_power2 = np.power(x, 2)\n",
    "    x_power3 = np.power(x, 3)\n",
    "    x_power5 = np.power(x, 5)\n",
    "    y = 0.2 - 1 * x + 0.9 * x_power2 + 0.7 * x_power3 - 0.2 * x_power5 + noise\n",
    "    return y"
   ]
  },
  {
   "cell_type": "code",
   "execution_count": 4,
   "metadata": {},
   "outputs": [
    {
     "data": {
      "text/plain": [
       "array([-0.07696611, -0.09076444,  0.07468889, -0.20592771, -0.03628397,\n",
       "        0.150357  ,  0.01376212, -0.03424874, -0.0877028 , -0.1377195 ,\n",
       "       -0.06190248, -0.13849223,  0.00511669, -0.15093412,  0.03556668,\n",
       "        0.14372722, -0.03863193,  0.01145297, -0.02621047, -0.19512367])"
      ]
     },
     "execution_count": 4,
     "metadata": {},
     "output_type": "execute_result"
    }
   ],
   "source": [
    "noise = white_noise(20, 0.1)\n",
    "noise"
   ]
  },
  {
   "cell_type": "code",
   "execution_count": 5,
   "metadata": {},
   "outputs": [
    {
     "data": {
      "text/plain": [
       "array([0.        , 0.10526316, 0.21052632, 0.31578947, 0.42105263,\n",
       "       0.52631579, 0.63157895, 0.73684211, 0.84210526, 0.94736842,\n",
       "       1.05263158, 1.15789474, 1.26315789, 1.36842105, 1.47368421,\n",
       "       1.57894737, 1.68421053, 1.78947368, 1.89473684, 2.        ])"
      ]
     },
     "execution_count": 5,
     "metadata": {},
     "output_type": "execute_result"
    }
   ],
   "source": [
    "x = create_points(20)\n",
    "x"
   ]
  },
  {
   "cell_type": "code",
   "execution_count": 6,
   "metadata": {},
   "outputs": [
    {
     "data": {
      "text/plain": [
       "array([ 0.12303389,  0.01475856,  0.11050063, -0.21055054, -0.04817405,\n",
       "        0.16732716,  0.09743947,  0.1541514 ,  0.2417434 ,  0.36523252,\n",
       "        0.64067032,  0.78067998,  1.145629  ,  1.2000092 ,  1.56666014,\n",
       "        1.80128606,  1.6639613 ,  1.64525089,  1.38760109,  0.80487633])"
      ]
     },
     "execution_count": 6,
     "metadata": {},
     "output_type": "execute_result"
    }
   ],
   "source": [
    "y = create_distribution(x, noise, 20)\n",
    "y"
   ]
  },
  {
   "cell_type": "code",
   "execution_count": 7,
   "metadata": {},
   "outputs": [
    {
     "data": {
      "image/png": "[encoded data removed]",
      "text/plain": [
       "<Figure size 432x288 with 1 Axes>"
      ]
     },
     "metadata": {
      "needs_background": "light"
     },
     "output_type": "display_data"
    }
   ],
   "source": [
    "plt.plot(y)\n",
    "plt.show()"
   ]
  },
  {
   "cell_type": "code",
   "execution_count": 15,
   "metadata": {},
   "outputs": [
    {
     "data": {
      "text/plain": [
       "array([-0.81146434,  2.54853105, -2.69679817,  2.36220856, -1.00515667,\n",
       "        0.11907661])"
      ]
     },
     "execution_count": 15,
     "metadata": {},
     "output_type": "execute_result"
    }
   ],
   "source": [
    "lsv = np.polyfit(x, y, 5)\n",
    "lsv"
   ]
  },
  {
   "cell_type": "code",
   "execution_count": 16,
   "metadata": {},
   "outputs": [],
   "source": [
    "def mse(y, x):\n",
    "    return np.square(np.subtract(y, x)).mean()"
   ]
  },
  {
   "cell_type": "code",
   "execution_count": 17,
   "metadata": {},
   "outputs": [
    {
     "data": {
      "text/plain": [
       "1.120707462837672"
      ]
     },
     "execution_count": 17,
     "metadata": {},
     "output_type": "execute_result"
    }
   ],
   "source": [
    "train_set = np.random.uniform(low = 0.0, high = 2.0, size = (20, ))\n",
    "mse_train = mse(y, train_set)\n",
    "mse_train"
   ]
  },
  {
   "cell_type": "code",
   "execution_count": 19,
   "metadata": {},
   "outputs": [
    {
     "data": {
      "text/plain": [
       "0.6812697185642949"
      ]
     },
     "execution_count": 19,
     "metadata": {},
     "output_type": "execute_result"
    }
   ],
   "source": [
    "test_set = np.random.uniform(low = 0.0, high = 2.0, size = (1000, ))\n",
    "y_test = lsv[0] + lsv[1] * test_set + lsv[2] * test_set**2.0 + lsv[3] * test_set**3.0 +\\\n",
    "         lsv[4] * test_set**4.0 + lsv[5] * test_set**5.0\n",
    "mse_test = mse(y_test, test_set)\n",
    "mse_test"
   ]
  },
  {
   "cell_type": "markdown",
   "metadata": {},
   "source": [
    "# Problem 1 - Erwthma 2"
   ]
  },
  {
   "cell_type": "code",
   "execution_count": 23,
   "metadata": {},
   "outputs": [],
   "source": [
    "def create_distribution(x, polynomial_degree, theta, noise):\n",
    "    y = 0\n",
    "    for i in range(polynomial_degree + 1):\n",
    "        y += theta[i] * (np.power(x, i))\n",
    "    y += noise\n",
    "    return y"
   ]
  },
  {
   "cell_type": "code",
   "execution_count": null,
   "metadata": {},
   "outputs": [],
   "source": [
    "for i in range(1, 101):\n",
    "    noise = white_noise(20, 0.1)\n",
    "    x = create_points(20)\n",
    "    y = create_y(x, noise, 20)\n",
    "    lsv_2 = np.polyfit(x, y, 2)\n",
    "    lsv_10 = np.polyfit(x, y, 10)\n",
    "    y_test_2 = create_distribution(x, 2, lsv_2, np.zeros(20))\n",
    "    y_test_10 = create_distribution(x, 10, lsv_10, np.zeros(20))\n",
    "    means_2.append(np.mean(y_test_2))\n",
    "    stdevs_2.append(np.std(y_test_2))\n",
    "    means_10.append(np.mean(y_test_10))\n",
    "    stdevs_10.append(np.std(y_test_10))"
   ]
  }
 ],
 "metadata": {
  "kernelspec": {
   "display_name": "Python 3",
   "language": "python",
   "name": "python3"
  },
  "language_info": {
   "codemirror_mode": {
    "name": "ipython",
    "version": 3
   },
   "file_extension": ".py",
   "mimetype": "text/x-python",
   "name": "python",
   "nbconvert_exporter": "python",
   "pygments_lexer": "ipython3",
   "version": "3.7.4"
  },
  "toc": {
   "base_numbering": 1,
   "nav_menu": {},
   "number_sections": false,
   "sideBar": true,
   "skip_h1_title": false,
   "title_cell": "Table of Contents",
   "title_sidebar": "Contents",
   "toc_cell": false,
   "toc_position": {},
   "toc_section_display": true,
   "toc_window_display": true
  }
 },
 "nbformat": 4,
 "nbformat_minor": 2
}
