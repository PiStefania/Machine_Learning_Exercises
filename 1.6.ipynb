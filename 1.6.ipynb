{
 "cells": [
  {
   "cell_type": "code",
   "execution_count": 1,
   "metadata": {},
   "outputs": [],
   "source": [
    "import numpy as np\n",
    "import matplotlib.pyplot as plt "
   ]
  },
  {
   "cell_type": "code",
   "execution_count": 2,
   "metadata": {},
   "outputs": [],
   "source": [
    "# Initialize variables\n",
    "theta = np.array([0.2, -1, 0.9, 0.7, -0.2])\n",
    "noise_sigma = np.sqrt(0.05)\n",
    "N_train = 500\n",
    "N_test = 20\n",
    "a = 1\n",
    "b = 1\n",
    "a_old = np.inf\n",
    "b_old = np.inf\n",
    "i = 1\n",
    "max_i = 1000\n",
    "K = 5\n",
    "e = 0.00001\n",
    "sigma_y = np.empty([N_test])"
   ]
  },
  {
   "cell_type": "code",
   "execution_count": 3,
   "metadata": {},
   "outputs": [],
   "source": [
    "# Create train and test data\n",
    "x_train = np.random.uniform(0, 2, N_train)\n",
    "X_train = np.column_stack((np.ones(N_train), x_train, x_train**2, x_train**3, x_train**5))\n",
    "noise = np.random.normal(0, noise_sigma, N_train)\n",
    "Y_train = np.dot(X_train, theta) + noise\n",
    "x_test = np.random.uniform(0, 2, N_test)\n",
    "X_test = np.column_stack((np.ones(N_test), x_test, x_test**2, x_test**3, x_test**5))\n"
   ]
  },
  {
   "cell_type": "code",
   "execution_count": 4,
   "metadata": {},
   "outputs": [],
   "source": [
    "# Apply the algorithm\n",
    "while ((abs(b - b_old) > e) or (abs(a - a_old) > e)) and (i < max_i):\n",
    "    a_old = a\n",
    "    b_old = b\n",
    "\n",
    "    # E-step\n",
    "    S = np.linalg.inv( (a*np.eye(5)) + (b*np.dot(X_train.T, X_train)) )\n",
    "    mean = np.linalg.multi_dot([b*S, X_train.T, Y_train])\n",
    "    A = np.linalg.norm(mean)**2 + np.trace(S)\n",
    "    B = np.linalg.norm(Y_train-np.dot(X_train, mean))**2+np.trace(np.linalg.multi_dot([X_train, S, X_train.T]))\n",
    "    \n",
    "    # M-step\n",
    "    b = N_train/B\n",
    "    a = K/A\n",
    "    i += 1"
   ]
  },
  {
   "cell_type": "code",
   "execution_count": 5,
   "metadata": {},
   "outputs": [
    {
     "name": "stdout",
     "output_type": "stream",
     "text": [
      "sigma_theta :  0.3577093433601732  sigma_eta :  0.04807707635410696\n"
     ]
    }
   ],
   "source": [
    "# Calculate the estimates for the sigma's of theta and noise\n",
    "sigma_theta = 1/a\n",
    "sigma_eta = 1/b\n",
    "print('sigma_theta : ', sigma_theta, ' sigma_eta : ', sigma_eta)\n"
   ]
  },
  {
   "cell_type": "code",
   "execution_count": 6,
   "metadata": {},
   "outputs": [],
   "source": [
    "# Calculate y estimates\n",
    "y_hat = np.dot(X_test, mean)\n"
   ]
  },
  {
   "cell_type": "code",
   "execution_count": 7,
   "metadata": {},
   "outputs": [],
   "source": [
    "# Calculate sigmas for the above estimations\n",
    "inverse = np.linalg.inv(sigma_eta*np.eye(5)+sigma_theta*np.dot(X_test.T, X_test))\n",
    "for j in range(0,20):\n",
    "    sigma_y[j] = np.sqrt(sigma_eta+sigma_eta*sigma_theta*np.linalg.multi_dot([X_test[j,:], inverse, X_test[j,:].T]))\n"
   ]
  },
  {
   "cell_type": "code",
   "execution_count": 8,
   "metadata": {},
   "outputs": [
    {
     "data": {
      "image/png": "[encoded data removed]",
      "text/plain": [
       "<Figure size 576x432 with 1 Axes>"
      ]
     },
     "metadata": {
      "needs_background": "light"
     },
     "output_type": "display_data"
    }
   ],
   "source": [
    "# Plot results\n",
    "x = np.arange(0, 2.01, 0.01)\n",
    "plt.rcParams[\"figure.figsize\"] = [8,6]\n",
    "plt.plot(x, theta[0] + theta[1]*x + theta[2]*x**2 + theta[3]*x**3 + theta[4]*x**5)\n",
    "plt.errorbar(x_test, y_hat, yerr=sigma_y, linestyle='None', capsize=3)\n",
    "plt.plot(x_test, y_hat, 'r.')\n",
    "plt.show()"
   ]
  },
  {
   "cell_type": "code",
   "execution_count": null,
   "metadata": {},
   "outputs": [],
   "source": []
  }
 ],
 "metadata": {
  "kernelspec": {
   "display_name": "Python 3",
   "language": "python",
   "name": "python3"
  },
  "language_info": {
   "codemirror_mode": {
    "name": "ipython",
    "version": 3
   },
   "file_extension": ".py",
   "mimetype": "text/x-python",
   "name": "python",
   "nbconvert_exporter": "python",
   "pygments_lexer": "ipython3",
   "version": "3.6.8"
  }
 },
 "nbformat": 4,
 "nbformat_minor": 2
}
