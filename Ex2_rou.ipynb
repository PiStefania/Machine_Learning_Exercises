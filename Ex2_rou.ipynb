{
 "cells": [
  {
   "cell_type": "markdown",
   "metadata": {},
   "source": [
    "# Problem 2"
   ]
  },
  {
   "cell_type": "code",
   "execution_count": 1,
   "metadata": {},
   "outputs": [],
   "source": [
    "import numpy as np\n",
    "import pandas as pd\n",
    "from matplotlib import pyplot as plt\n",
    "np.random.seed(1)\n",
    "%matplotlib inline"
   ]
  },
  {
   "cell_type": "code",
   "execution_count": 2,
   "metadata": {},
   "outputs": [],
   "source": [
    "# Set the names of the columns for the two datasets\n",
    "\n",
    "names_iris = ['Sepal Length', 'Sepal Width', 'Petal Length', 'Petal Width', 'Class']\n",
    "names_indians = ['Times Pregnant', 'Glucose Concentration', 'Blood Pressure', 'Skin Thickness',\n",
    "                 'Serum Insulin', 'BMI', 'Pedigree Function', 'Age', 'Class']"
   ]
  },
  {
   "cell_type": "code",
   "execution_count": 3,
   "metadata": {},
   "outputs": [],
   "source": [
    "# Read the files into dataframes\n",
    "\n",
    "df_iris = pd.read_csv('iris.csv', names=names_iris)\n",
    "df_indians = pd.read_csv('pima-indians-diabetes.csv', names=names_indians)"
   ]
  },
  {
   "cell_type": "code",
   "execution_count": 4,
   "metadata": {},
   "outputs": [
    {
     "data": {
      "text/html": [
       "<div>\n",
       "<style scoped>\n",
       "    .dataframe tbody tr th:only-of-type {\n",
       "        vertical-align: middle;\n",
       "    }\n",
       "\n",
       "    .dataframe tbody tr th {\n",
       "        vertical-align: top;\n",
       "    }\n",
       "\n",
       "    .dataframe thead th {\n",
       "        text-align: right;\n",
       "    }\n",
       "</style>\n",
       "<table border=\"1\" class=\"dataframe\">\n",
       "  <thead>\n",
       "    <tr style=\"text-align: right;\">\n",
       "      <th></th>\n",
       "      <th>Sepal Length</th>\n",
       "      <th>Sepal Width</th>\n",
       "      <th>Petal Length</th>\n",
       "      <th>Petal Width</th>\n",
       "      <th>Class</th>\n",
       "    </tr>\n",
       "  </thead>\n",
       "  <tbody>\n",
       "    <tr>\n",
       "      <td>0</td>\n",
       "      <td>5.1</td>\n",
       "      <td>3.5</td>\n",
       "      <td>1.4</td>\n",
       "      <td>0.2</td>\n",
       "      <td>Iris-setosa</td>\n",
       "    </tr>\n",
       "    <tr>\n",
       "      <td>1</td>\n",
       "      <td>4.9</td>\n",
       "      <td>3.0</td>\n",
       "      <td>1.4</td>\n",
       "      <td>0.2</td>\n",
       "      <td>Iris-setosa</td>\n",
       "    </tr>\n",
       "    <tr>\n",
       "      <td>2</td>\n",
       "      <td>4.7</td>\n",
       "      <td>3.2</td>\n",
       "      <td>1.3</td>\n",
       "      <td>0.2</td>\n",
       "      <td>Iris-setosa</td>\n",
       "    </tr>\n",
       "    <tr>\n",
       "      <td>3</td>\n",
       "      <td>4.6</td>\n",
       "      <td>3.1</td>\n",
       "      <td>1.5</td>\n",
       "      <td>0.2</td>\n",
       "      <td>Iris-setosa</td>\n",
       "    </tr>\n",
       "    <tr>\n",
       "      <td>4</td>\n",
       "      <td>5.0</td>\n",
       "      <td>3.6</td>\n",
       "      <td>1.4</td>\n",
       "      <td>0.2</td>\n",
       "      <td>Iris-setosa</td>\n",
       "    </tr>\n",
       "  </tbody>\n",
       "</table>\n",
       "</div>"
      ],
      "text/plain": [
       "   Sepal Length  Sepal Width  Petal Length  Petal Width        Class\n",
       "0           5.1          3.5           1.4          0.2  Iris-setosa\n",
       "1           4.9          3.0           1.4          0.2  Iris-setosa\n",
       "2           4.7          3.2           1.3          0.2  Iris-setosa\n",
       "3           4.6          3.1           1.5          0.2  Iris-setosa\n",
       "4           5.0          3.6           1.4          0.2  Iris-setosa"
      ]
     },
     "execution_count": 4,
     "metadata": {},
     "output_type": "execute_result"
    }
   ],
   "source": [
    "df_iris.head()"
   ]
  },
  {
   "cell_type": "code",
   "execution_count": 5,
   "metadata": {},
   "outputs": [
    {
     "data": {
      "text/html": [
       "<div>\n",
       "<style scoped>\n",
       "    .dataframe tbody tr th:only-of-type {\n",
       "        vertical-align: middle;\n",
       "    }\n",
       "\n",
       "    .dataframe tbody tr th {\n",
       "        vertical-align: top;\n",
       "    }\n",
       "\n",
       "    .dataframe thead th {\n",
       "        text-align: right;\n",
       "    }\n",
       "</style>\n",
       "<table border=\"1\" class=\"dataframe\">\n",
       "  <thead>\n",
       "    <tr style=\"text-align: right;\">\n",
       "      <th></th>\n",
       "      <th>Times Pregnant</th>\n",
       "      <th>Glucose Concentration</th>\n",
       "      <th>Blood Pressure</th>\n",
       "      <th>Skin Thickness</th>\n",
       "      <th>Serum Insulin</th>\n",
       "      <th>BMI</th>\n",
       "      <th>Pedigree Function</th>\n",
       "      <th>Age</th>\n",
       "      <th>Class</th>\n",
       "    </tr>\n",
       "  </thead>\n",
       "  <tbody>\n",
       "    <tr>\n",
       "      <td>0</td>\n",
       "      <td>6</td>\n",
       "      <td>148</td>\n",
       "      <td>72</td>\n",
       "      <td>35</td>\n",
       "      <td>0</td>\n",
       "      <td>33.6</td>\n",
       "      <td>0.627</td>\n",
       "      <td>50</td>\n",
       "      <td>1</td>\n",
       "    </tr>\n",
       "    <tr>\n",
       "      <td>1</td>\n",
       "      <td>1</td>\n",
       "      <td>85</td>\n",
       "      <td>66</td>\n",
       "      <td>29</td>\n",
       "      <td>0</td>\n",
       "      <td>26.6</td>\n",
       "      <td>0.351</td>\n",
       "      <td>31</td>\n",
       "      <td>0</td>\n",
       "    </tr>\n",
       "    <tr>\n",
       "      <td>2</td>\n",
       "      <td>8</td>\n",
       "      <td>183</td>\n",
       "      <td>64</td>\n",
       "      <td>0</td>\n",
       "      <td>0</td>\n",
       "      <td>23.3</td>\n",
       "      <td>0.672</td>\n",
       "      <td>32</td>\n",
       "      <td>1</td>\n",
       "    </tr>\n",
       "    <tr>\n",
       "      <td>3</td>\n",
       "      <td>1</td>\n",
       "      <td>89</td>\n",
       "      <td>66</td>\n",
       "      <td>23</td>\n",
       "      <td>94</td>\n",
       "      <td>28.1</td>\n",
       "      <td>0.167</td>\n",
       "      <td>21</td>\n",
       "      <td>0</td>\n",
       "    </tr>\n",
       "    <tr>\n",
       "      <td>4</td>\n",
       "      <td>0</td>\n",
       "      <td>137</td>\n",
       "      <td>40</td>\n",
       "      <td>35</td>\n",
       "      <td>168</td>\n",
       "      <td>43.1</td>\n",
       "      <td>2.288</td>\n",
       "      <td>33</td>\n",
       "      <td>1</td>\n",
       "    </tr>\n",
       "  </tbody>\n",
       "</table>\n",
       "</div>"
      ],
      "text/plain": [
       "   Times Pregnant  Glucose Concentration  Blood Pressure  Skin Thickness  \\\n",
       "0               6                    148              72              35   \n",
       "1               1                     85              66              29   \n",
       "2               8                    183              64               0   \n",
       "3               1                     89              66              23   \n",
       "4               0                    137              40              35   \n",
       "\n",
       "   Serum Insulin   BMI  Pedigree Function  Age  Class  \n",
       "0              0  33.6              0.627   50      1  \n",
       "1              0  26.6              0.351   31      0  \n",
       "2              0  23.3              0.672   32      1  \n",
       "3             94  28.1              0.167   21      0  \n",
       "4            168  43.1              2.288   33      1  "
      ]
     },
     "execution_count": 5,
     "metadata": {},
     "output_type": "execute_result"
    }
   ],
   "source": [
    "df_indians.head()"
   ]
  },
  {
   "cell_type": "code",
   "execution_count": 6,
   "metadata": {},
   "outputs": [
    {
     "data": {
      "text/plain": [
       "Sepal Length    float64\n",
       "Sepal Width     float64\n",
       "Petal Length    float64\n",
       "Petal Width     float64\n",
       "Class            object\n",
       "dtype: object"
      ]
     },
     "execution_count": 6,
     "metadata": {},
     "output_type": "execute_result"
    }
   ],
   "source": [
    "df_iris.dtypes"
   ]
  },
  {
   "cell_type": "code",
   "execution_count": 7,
   "metadata": {},
   "outputs": [],
   "source": [
    "# Convert the class of the Iris dataset to numerical type\n",
    "\n",
    "df_iris['Class'] = df_iris['Class'].map({'Iris-setosa': 0, 'Iris-versicolor': 1, 'Iris-virginica': 2})"
   ]
  },
  {
   "cell_type": "code",
   "execution_count": 8,
   "metadata": {},
   "outputs": [
    {
     "data": {
      "text/plain": [
       "Times Pregnant             int64\n",
       "Glucose Concentration      int64\n",
       "Blood Pressure             int64\n",
       "Skin Thickness             int64\n",
       "Serum Insulin              int64\n",
       "BMI                      float64\n",
       "Pedigree Function        float64\n",
       "Age                        int64\n",
       "Class                      int64\n",
       "dtype: object"
      ]
     },
     "execution_count": 8,
     "metadata": {},
     "output_type": "execute_result"
    }
   ],
   "source": [
    "df_indians.dtypes"
   ]
  },
  {
   "cell_type": "code",
   "execution_count": 9,
   "metadata": {},
   "outputs": [
    {
     "name": "stdout",
     "output_type": "stream",
     "text": [
      "NaNs in Iris dataset: 0\n",
      "NaNs in Pima-Indians-Diabetes dataset: 0\n"
     ]
    }
   ],
   "source": [
    "# Display the number of null data observations\n",
    "\n",
    "print('NaNs in Iris dataset:', df_iris.isnull().values.sum())\n",
    "print('NaNs in Pima-Indians-Diabetes dataset:', df_indians.isnull().values.sum())"
   ]
  },
  {
   "cell_type": "code",
   "execution_count": 10,
   "metadata": {},
   "outputs": [],
   "source": [
    "# Create X and y for both datasets\n",
    "\n",
    "X_iris = df_iris.iloc[:, :-1]\n",
    "bias_iris = np.ones([len(df_iris), 1])\n",
    "X_iris = np.concatenate((bias_iris, X_iris), axis=1)\n",
    "Y_iris = df_iris.iloc[:, -1].values\n",
    "\n",
    "X_indians = df_indians.iloc[:, :-1]\n",
    "bias_indians = np.ones([len(df_indians), 1])\n",
    "X_indians = np.concatenate((bias_indians, X_indians), axis=1)\n",
    "Y_indians = df_indians.iloc[:, -1].values"
   ]
  },
  {
   "cell_type": "markdown",
   "metadata": {},
   "source": [
    "## Problem 2 Part 1"
   ]
  },
  {
   "cell_type": "code",
   "execution_count": 11,
   "metadata": {},
   "outputs": [],
   "source": [
    "def distance(x1, x2):\n",
    "    distance = 0\n",
    "    for i in range(len(x1)):\n",
    "        distance += np.square(x1[i] - x2[i])\n",
    "    distance = np.sqrt(distance)\n",
    "    return distance"
   ]
  },
  {
   "cell_type": "code",
   "execution_count": 12,
   "metadata": {},
   "outputs": [],
   "source": [
    "def kNN_accuracy(X_train, Y_train, X_test, Y_test, k):\n",
    "    counter = 0\n",
    "    predicted_class = np.zeros(len(X_test))\n",
    "    for i in range(len(X_test)):\n",
    "        point_distance = np.zeros([len(X_train), 2])\n",
    "        for j in range(len(X_train)):\n",
    "            point_distance[j, 0] = distance(X_train[j, :], X_test[i, :])\n",
    "            point_distance[j, 1] = Y_train[j]    \n",
    "        sorted_distance = point_distance[point_distance[:, 0].argsort()]\n",
    "        neighbors = np.zeros([k, 2])\n",
    "        no_of_classes = len(np.unique(Y_test))\n",
    "        votes = np.zeros(no_of_classes, dtype=np.int)\n",
    "        for x in range(k):\n",
    "            neighbors[x, :] = sorted_distance[x, :] \n",
    "            neighbor_label = sorted_distance[x, 1].astype(int)\n",
    "            votes[neighbor_label] += 1\n",
    "        predicted_class[i] = np.argmax(votes)\n",
    "        if (predicted_class[i] == Y_test[i]):\n",
    "            counter += 1\n",
    "    accuracy = counter / len(X_test)\n",
    "    return accuracy"
   ]
  },
  {
   "cell_type": "code",
   "execution_count": 13,
   "metadata": {},
   "outputs": [],
   "source": [
    "from sklearn.model_selection import KFold "
   ]
  },
  {
   "cell_type": "code",
   "execution_count": 14,
   "metadata": {},
   "outputs": [],
   "source": [
    "def CV_accuracy_as_function_of_k(X, Y):\n",
    "    cv_accuracies = np.zeros([20, 2])\n",
    "    for l in range(1, 21):\n",
    "        kf = KFold(n_splits=5, shuffle=True)\n",
    "        sum = 0\n",
    "        for train, test in kf.split(X_iris):\n",
    "            X_train, X_test, Y_train, Y_test = X[train], X[test], Y[train], Y[test]\n",
    "            sum += kNN_accuracy(X_train, Y_train, X_test, Y_test, l)\n",
    "        average_accuracy = sum/5\n",
    "        cv_accuracies[l - 1, 0] = average_accuracy\n",
    "        cv_accuracies[l - 1, 1] = l\n",
    "    return cv_accuracies"
   ]
  },
  {
   "cell_type": "code",
   "execution_count": 15,
   "metadata": {},
   "outputs": [],
   "source": [
    "iris_accuracies = CV_accuracy_as_function_of_k(X_iris, Y_iris)"
   ]
  },
  {
   "cell_type": "code",
   "execution_count": 16,
   "metadata": {},
   "outputs": [],
   "source": [
    "indians_accuracies = CV_accuracy_as_function_of_k(X_indians, Y_indians)"
   ]
  },
  {
   "cell_type": "code",
   "execution_count": 17,
   "metadata": {},
   "outputs": [
    {
     "data": {
      "image/png": "[encoded data removed]",
      "text/plain": [
       "<Figure size 1080x432 with 1 Axes>"
      ]
     },
     "metadata": {
      "needs_background": "light"
     },
     "output_type": "display_data"
    }
   ],
   "source": [
    "plt.figure(figsize=(15, 6))\n",
    "plt.plot(iris_accuracies[:, 1], iris_accuracies[:, 0], label='Iris dataset')\n",
    "plt.plot(indians_accuracies[:, 1], indians_accuracies[:, 0], label='Indians Diabetes dataset')\n",
    "plt.xlabel('Value of \"k\" neighbors')\n",
    "plt.xticks(iris_accuracies[:, 1])\n",
    "plt.ylabel('Classification Accuracy')\n",
    "plt.ylim([0.5, 1])\n",
    "plt.grid()\n",
    "plt.title('Cross-validated accuracies as functions of k for kNN classifier')\n",
    "plt.legend()\n",
    "plt.show()"
   ]
  },
  {
   "cell_type": "code",
   "execution_count": 18,
   "metadata": {},
   "outputs": [
    {
     "data": {
      "image/png": "[encoded data removed]",
      "text/plain": [
       "<Figure size 1080x432 with 1 Axes>"
      ]
     },
     "metadata": {
      "needs_background": "light"
     },
     "output_type": "display_data"
    }
   ],
   "source": [
    "df = pd.DataFrame(np.column_stack((iris_accuracies.round(3), indians_accuracies.round(3))), \n",
    "                  columns=['Iris Accuracy', 'Values of k neighbors', \n",
    "                           'Indians Diabetes Accuracy', 'Values of k neighbors_2'])\n",
    "df = df[['Values of k neighbors', 'Iris Accuracy', 'Indians Diabetes Accuracy']]\n",
    "fig, ax = plt.subplots(figsize=(15, 6))\n",
    "fig.patch.set_visible(False)\n",
    "ax.axis('off')\n",
    "ax.axis('tight')\n",
    "ax.table(cellText=df.values, colLabels=df.columns, loc='center', cellLoc='center')\n",
    "fig.tight_layout()\n",
    "plt.show()"
   ]
  },
  {
   "cell_type": "markdown",
   "metadata": {},
   "source": [
    "## Problem 2 Part 2"
   ]
  },
  {
   "cell_type": "markdown",
   "metadata": {},
   "source": [
    "Since we assume that the probability density functions of the two classes follow normal distribution, if we also make the assumption that the two datasets contain equiprobable classes, then the Bayesian classification problem is essentially a minimum Mahalanobis distance classification problem."
   ]
  },
  {
   "cell_type": "code",
   "execution_count": 19,
   "metadata": {},
   "outputs": [
    {
     "data": {
      "text/plain": [
       "array([[ 0,  1,  2],\n",
       "       [50, 50, 50]])"
      ]
     },
     "execution_count": 19,
     "metadata": {},
     "output_type": "execute_result"
    }
   ],
   "source": [
    "count_classes_iris = np.zeros([len(np.unique(Y_iris)), 2])\n",
    "unique, counts = np.unique(Y_iris, return_counts=True)\n",
    "count_classes_iris = np.asarray((unique, counts))\n",
    "count_classes_iris"
   ]
  },
  {
   "cell_type": "code",
   "execution_count": 20,
   "metadata": {},
   "outputs": [
    {
     "data": {
      "text/plain": [
       "array([[  0,   1],\n",
       "       [500, 268]])"
      ]
     },
     "execution_count": 20,
     "metadata": {},
     "output_type": "execute_result"
    }
   ],
   "source": [
    "count_classes_indians = np.zeros([len(np.unique(Y_indians)), 2])\n",
    "unique, counts = np.unique(Y_indians, return_counts=True)\n",
    "count_classes_indians = np.asarray((unique, counts))\n",
    "count_classes_indians"
   ]
  },
  {
   "cell_type": "markdown",
   "metadata": {},
   "source": [
    "We can see that the assumption that the datasets contain equiprobable classes holds true for the Iris dataset but not for the Indians Diabetes dataset. However, we will assume that it does, modify the kNN classifier accordingly and see the results."
   ]
  },
  {
   "cell_type": "markdown",
   "metadata": {},
   "source": [
    "### Implementation for the Iris dataset"
   ]
  },
  {
   "cell_type": "code",
   "execution_count": 21,
   "metadata": {},
   "outputs": [],
   "source": [
    "X_iris = df_iris.values[:, 0:4]"
   ]
  },
  {
   "cell_type": "code",
   "execution_count": 22,
   "metadata": {},
   "outputs": [],
   "source": [
    "index_0 = df_iris.Class == 0\n",
    "index_1 = df_iris.Class == 1\n",
    "index_2 = df_iris.Class == 2"
   ]
  },
  {
   "cell_type": "code",
   "execution_count": 23,
   "metadata": {},
   "outputs": [],
   "source": [
    "mean_0 = np.mean(X_iris[index_0, :], axis = 0)\n",
    "mean_1 = np.mean(X_iris[index_1, :], axis = 0)\n",
    "mean_2 = np.mean(X_iris[index_2, :], axis = 0)\n",
    "cov_0 = np.cov(X_iris[index_0, :].T)\n",
    "cov_1 = np.cov(X_iris[index_1, :].T)\n",
    "cov_2 = np.cov(X_iris[index_2, :].T)"
   ]
  },
  {
   "cell_type": "code",
   "execution_count": 24,
   "metadata": {},
   "outputs": [],
   "source": [
    "import math\n",
    "def mahalanobis(p, mean, cov):\n",
    "    dif = p - mean\n",
    "    return math.sqrt(np.dot(np.dot(dif.T, np.linalg.inv(cov)), dif))"
   ]
  },
  {
   "cell_type": "code",
   "execution_count": 25,
   "metadata": {},
   "outputs": [],
   "source": [
    "from sklearn.model_selection import KFold\n",
    "def CV_bayesian_accuracy(X, Y):\n",
    "    kf = KFold(n_splits=5, shuffle=True)\n",
    "    sum = 0\n",
    "    for train, test in kf.split(X_iris):\n",
    "        X_train, X_test, Y_train, Y_test = X[train], X[test], Y[train], Y[test]\n",
    "        predicted_class = np.zeros(len(X_test))\n",
    "        no_of_classes = len(np.unique(Y_test))\n",
    "        votes = np.zeros(no_of_classes, dtype=np.int)\n",
    "        counter = 0\n",
    "        for i in range(X_test.shape[0]):\n",
    "            dist_0 = mahalanobis(X_test[i, :], mean_0, cov_0)\n",
    "            dist_1 = mahalanobis(X_test[i, :], mean_1, cov_1)\n",
    "            dist_2 = mahalanobis(X_test[i, :], mean_2, cov_2)\n",
    "            predicted_class[i] = np.argmin([dist_0, dist_1, dist_2]).astype(int)\n",
    "            if (predicted_class[i] == Y_test[i]):\n",
    "                counter += 1\n",
    "        accuracy = counter / len(X_test)\n",
    "        sum += accuracy\n",
    "    average_accuracy = sum/5\n",
    "    return average_accuracy"
   ]
  },
  {
   "cell_type": "code",
   "execution_count": 26,
   "metadata": {},
   "outputs": [
    {
     "data": {
      "text/plain": [
       "0.9800000000000001"
      ]
     },
     "execution_count": 26,
     "metadata": {},
     "output_type": "execute_result"
    }
   ],
   "source": [
    "iris_accuracy = CV_bayesian_accuracy(X_iris, Y_iris)\n",
    "iris_accuracy"
   ]
  },
  {
   "cell_type": "markdown",
   "metadata": {},
   "source": [
    "### Implementation for the Indians Diabetes dataset"
   ]
  },
  {
   "cell_type": "code",
   "execution_count": 27,
   "metadata": {},
   "outputs": [],
   "source": [
    "X_indians = df_indians.values[:, 0:4]"
   ]
  },
  {
   "cell_type": "code",
   "execution_count": 28,
   "metadata": {},
   "outputs": [],
   "source": [
    "index_0 = df_indians.Class == 0\n",
    "index_1 = df_indians.Class == 1"
   ]
  },
  {
   "cell_type": "code",
   "execution_count": 29,
   "metadata": {},
   "outputs": [],
   "source": [
    "mean_0 = np.mean(X_indians[index_0, :], axis = 0)\n",
    "mean_1 = np.mean(X_indians[index_1, :], axis = 0)\n",
    "cov_0 = np.cov(X_indians[index_0, :].T)\n",
    "cov_1 = np.cov(X_indians[index_1, :].T)"
   ]
  },
  {
   "cell_type": "code",
   "execution_count": 30,
   "metadata": {},
   "outputs": [],
   "source": [
    "import math\n",
    "def mahalanobis(p, mean, cov):\n",
    "    dif = p - mean\n",
    "    return math.sqrt(np.dot(np.dot(dif.T, np.linalg.inv(cov)), dif))"
   ]
  },
  {
   "cell_type": "code",
   "execution_count": 31,
   "metadata": {},
   "outputs": [],
   "source": [
    "from sklearn.model_selection import KFold\n",
    "def CV_bayesian_accuracy(X, Y):\n",
    "    kf = KFold(n_splits=5, shuffle=True)\n",
    "    sum = 0\n",
    "    for train, test in kf.split(X_iris):\n",
    "        X_train, X_test, Y_train, Y_test = X[train], X[test], Y[train], Y[test]\n",
    "        predicted_class = np.zeros(len(X_test))\n",
    "        no_of_classes = len(np.unique(Y_test))\n",
    "        votes = np.zeros(no_of_classes, dtype=np.int)\n",
    "        counter = 0\n",
    "        for i in range(X_test.shape[0]):\n",
    "            dist_0 = mahalanobis(X_test[i, :], mean_0, cov_0)\n",
    "            dist_1 = mahalanobis(X_test[i, :], mean_1, cov_1)\n",
    "            predicted_class[i] = np.argmin([dist_0, dist_1]).astype(int)\n",
    "            if (predicted_class[i] == Y_test[i]):\n",
    "                counter += 1\n",
    "        accuracy = counter / len(X_test)\n",
    "        sum += accuracy\n",
    "    average_accuracy = sum/5\n",
    "    return average_accuracy"
   ]
  },
  {
   "cell_type": "code",
   "execution_count": 32,
   "metadata": {},
   "outputs": [
    {
     "data": {
      "text/plain": [
       "0.6599999999999999"
      ]
     },
     "execution_count": 32,
     "metadata": {},
     "output_type": "execute_result"
    }
   ],
   "source": [
    "indians_accuracy = CV_bayesian_accuracy(X_indians, Y_indians)\n",
    "indians_accuracy"
   ]
  },
  {
   "cell_type": "markdown",
   "metadata": {},
   "source": [
    "Indeed, as we expected, the Bayesian Classifier based on minimum Mahalanobis distance works extremely well for the Iris dataset, since its classes are equiprobable, while it performs poorly for the Indians Diabetes dataset, since its classes are imbalanced. However, it should be noted that the Bayesian Classifier works exactly as well as the kNN classifier with k neighbors equal to 13, 16 and 17 and perhaps this is the maximum performance that can be achieved (98%). Furthermore, concerning the Indians Diabetes dataset, the performance of the Bayesian Classifier (66%) is better than that of the kNN classifier for quite a few different values of k."
   ]
  },
  {
   "cell_type": "markdown",
   "metadata": {},
   "source": [
    "## Problem 2 Part 3"
   ]
  },
  {
   "cell_type": "code",
   "execution_count": 33,
   "metadata": {},
   "outputs": [],
   "source": [
    "class Naive_Bayes:\n",
    "    \n",
    "    def fit(self, X, y):\n",
    "        n_samples, n_features = X.shape\n",
    "        self._classes = np.unique(y)\n",
    "        n_classes = len(self._classes)\n",
    "        # calculate mean, var, and prior for each class\n",
    "        self._mean = np.zeros((n_classes, n_features), dtype=np.float64)\n",
    "        self._var = np.zeros((n_classes, n_features), dtype=np.float64)\n",
    "        self._priors =  np.zeros(n_classes, dtype=np.float64)\n",
    "        for c in self._classes:\n",
    "            X_c = X[y==c]\n",
    "            self._mean[c, :] = X_c.mean(axis=0)\n",
    "            self._var[c, :] = X_c.var(axis=0)\n",
    "            self._priors[c] = X_c.shape[0] / float(n_samples)\n",
    "            \n",
    "    def predict(self, X):\n",
    "        y_pred = [self._predict(x) for x in X]\n",
    "        return np.array(y_pred)\n",
    "\n",
    "    def _predict(self, x):\n",
    "        posteriors = []\n",
    "\n",
    "        for idx, c in enumerate(self._classes):\n",
    "            prior = np.log(self._priors[idx])\n",
    "            posterior = np.sum(np.log(self._pdf(idx, x)))\n",
    "            posterior = prior + posterior\n",
    "            posteriors.append(posterior)\n",
    "            \n",
    "        return self._classes[np.argmax(posteriors)]\n",
    "            \n",
    "    def _pdf(self, class_idx, x):\n",
    "        mean = self._mean[class_idx]\n",
    "        var = self._var[class_idx]\n",
    "        numerator = np.exp(- (x-mean)**2 / (2 * var))\n",
    "        denominator = np.sqrt(2 * np.pi * var)\n",
    "        return numerator / denominator"
   ]
  },
  {
   "cell_type": "code",
   "execution_count": 34,
   "metadata": {},
   "outputs": [],
   "source": [
    "def compute_accuracy(y_true, y_pred):\n",
    "    accuracy = np.sum(y_true == y_pred) / len(y_true)\n",
    "    return accuracy"
   ]
  },
  {
   "cell_type": "code",
   "execution_count": 35,
   "metadata": {},
   "outputs": [],
   "source": [
    "from sklearn.model_selection import KFold\n",
    "def CV_naive_bayes_accuracy(X, Y):\n",
    "    kf = KFold(n_splits=5, shuffle=True)\n",
    "    sum = 0\n",
    "    for train, test in kf.split(X_iris):\n",
    "        X_train, X_test, Y_train, Y_test = X[train], X[test], Y[train], Y[test]\n",
    "        naive_bayes = Naive_Bayes()\n",
    "        naive_bayes.fit(X_train, Y_train)\n",
    "        predictions = naive_bayes.predict(X_test)\n",
    "        accuracy = compute_accuracy(Y_test, predictions)\n",
    "        sum += accuracy\n",
    "    average_accuracy = sum/5\n",
    "    return average_accuracy"
   ]
  },
  {
   "cell_type": "code",
   "execution_count": 36,
   "metadata": {},
   "outputs": [
    {
     "data": {
      "text/plain": [
       "0.9466666666666667"
      ]
     },
     "execution_count": 36,
     "metadata": {},
     "output_type": "execute_result"
    }
   ],
   "source": [
    "iris_accuracy = CV_naive_bayes_accuracy(X_iris, Y_iris)\n",
    "iris_accuracy"
   ]
  },
  {
   "cell_type": "code",
   "execution_count": 37,
   "metadata": {},
   "outputs": [
    {
     "data": {
      "text/plain": [
       "0.72"
      ]
     },
     "execution_count": 37,
     "metadata": {},
     "output_type": "execute_result"
    }
   ],
   "source": [
    "indians_accuracy = CV_naive_bayes_accuracy(X_indians, Y_indians)\n",
    "indians_accuracy"
   ]
  },
  {
   "cell_type": "markdown",
   "metadata": {},
   "source": [
    "The Naive Bayes classifier works better than the Bayes classifier based on minimum Mahalanobis distance for the Indians Diabetes dataset (72% compared to 66%), but not for the Iris dataset (94,67% compared to 98%). "
   ]
  },
  {
   "cell_type": "markdown",
   "metadata": {},
   "source": [
    "Overall, the Naive Bayes is the best classifier for the Indians Diabetes dataset (72%), while the kNN (for k equal to 13, 16, 17) and the Bayesian classifier based on minimum Mahalanobis distance are the best classifiers for the Iris dataset (98%)."
   ]
  },
  {
   "cell_type": "markdown",
   "metadata": {},
   "source": [
    "## Problem 2 Part 4"
   ]
  },
  {
   "cell_type": "code",
   "execution_count": 38,
   "metadata": {},
   "outputs": [],
   "source": [
    "def perceptron(X, Y, epochs, mu=1):\n",
    "    W = np.zeros(len(X[0]))\n",
    "    for n in range(epochs):\n",
    "        for i, x in enumerate(X):\n",
    "            error = X[i] @ W * Y[i]\n",
    "            if error <= 0:\n",
    "                W += mu * X[i] * Y[i]\n",
    "    return W"
   ]
  },
  {
   "cell_type": "code",
   "execution_count": 39,
   "metadata": {},
   "outputs": [],
   "source": [
    "def predict(z):\n",
    "    for i in range(len(z)):\n",
    "        if z[i] >= 0:\n",
    "            z[i] = 1\n",
    "        else:\n",
    "            z[i] = -1\n",
    "    return z"
   ]
  },
  {
   "cell_type": "code",
   "execution_count": 40,
   "metadata": {},
   "outputs": [],
   "source": [
    "def linear_separability(X, Y, epochs, sep_class, mu=1):\n",
    "    if sep_class=='Iris-setosa':\n",
    "        sep_y = 0\n",
    "        other_classes = 'Iris-versicolor and Iris-virginica'\n",
    "    elif sep_class=='Iris-versicolor':\n",
    "        sep_y = 1\n",
    "        other_classes = 'Iris-setosa and Iris-virginica'\n",
    "    elif sep_class=='Iris-virginica':\n",
    "        sep_y = 2\n",
    "        other_classes = 'Iris-setosa and Iris-versicolor'\n",
    "    else:\n",
    "        print('Insert a valid class from the following: ',\n",
    "              '\"Iris-setosa\", \"Iris-versicolor\", \"Iris-virginica\"')\n",
    "    Y_sep = np.ndarray.copy(Y)\n",
    "    for y in range(len(Y_sep)):\n",
    "        if Y_sep[y] == sep_y:\n",
    "            Y_sep[y] = 1\n",
    "        else:\n",
    "            Y_sep[y] = -1\n",
    "    weights = perceptron(X, Y_sep, epochs, mu)\n",
    "    z = X @ weights.T\n",
    "    y_predicted = predict(z)\n",
    "    if np.array_equal(y_predicted, Y_sep):\n",
    "        print('The perceptron was ABLE to linearly separate class {} from classes {}'\\\n",
    "              ' after running for {} epochs.'.format(sep_class, other_classes, epochs),\n",
    "              'The final weight vector is {}'.format(np.array2string(weights, separator=', ')))\n",
    "    else:\n",
    "        print('The perceptron was UNABLE to linearly separate class {} from classes {}'\\\n",
    "              ' after running for {} epochs.'.format(sep_class, other_classes, epochs),\n",
    "              'The final weight vector is {}'.format(np.array2string(weights, separator=', ')))"
   ]
  },
  {
   "cell_type": "code",
   "execution_count": 41,
   "metadata": {},
   "outputs": [
    {
     "name": "stdout",
     "output_type": "stream",
     "text": [
      "The perceptron was ABLE to linearly separate class Iris-setosa from classes Iris-versicolor and Iris-virginica after running for 1000 epochs. The final weight vector is [ 1.3,  4.1, -5.2, -2.2]\n"
     ]
    }
   ],
   "source": [
    "linear_separability(X_iris, Y_iris, 1000, 'Iris-setosa')"
   ]
  },
  {
   "cell_type": "code",
   "execution_count": 42,
   "metadata": {},
   "outputs": [
    {
     "name": "stdout",
     "output_type": "stream",
     "text": [
      "The perceptron was UNABLE to linearly separate class Iris-versicolor from classes Iris-setosa and Iris-virginica after running for 1000 epochs. The final weight vector is [  39. ,  -57.6,   13.1, -140.1]\n"
     ]
    }
   ],
   "source": [
    "linear_separability(X_iris, Y_iris, 1000, 'Iris-versicolor')"
   ]
  },
  {
   "cell_type": "code",
   "execution_count": 43,
   "metadata": {},
   "outputs": [
    {
     "name": "stdout",
     "output_type": "stream",
     "text": [
      "The perceptron was UNABLE to linearly separate class Iris-virginica from classes Iris-setosa and Iris-versicolor after running for 1000 epochs. The final weight vector is [-141.1, -144.9,  190.1,  257.7]\n"
     ]
    }
   ],
   "source": [
    "linear_separability(X_iris, Y_iris, 1000, 'Iris-virginica')"
   ]
  },
  {
   "cell_type": "code",
   "execution_count": null,
   "metadata": {},
   "outputs": [],
   "source": []
  }
 ],
 "metadata": {
  "kernelspec": {
   "display_name": "Python 3",
   "language": "python",
   "name": "python3"
  },
  "language_info": {
   "codemirror_mode": {
    "name": "ipython",
    "version": 3
   },
   "file_extension": ".py",
   "mimetype": "text/x-python",
   "name": "python",
   "nbconvert_exporter": "python",
   "pygments_lexer": "ipython3",
   "version": "3.7.4"
  },
  "toc": {
   "base_numbering": 1,
   "nav_menu": {},
   "number_sections": false,
   "sideBar": true,
   "skip_h1_title": false,
   "title_cell": "Table of Contents",
   "title_sidebar": "Contents",
   "toc_cell": false,
   "toc_position": {},
   "toc_section_display": true,
   "toc_window_display": true
  },
  "varInspector": {
   "cols": {
    "lenName": 16,
    "lenType": 16,
    "lenVar": 40
   },
   "kernels_config": {
    "python": {
     "delete_cmd_postfix": "",
     "delete_cmd_prefix": "del ",
     "library": "var_list.py",
     "varRefreshCmd": "print(var_dic_list())"
    },
    "r": {
     "delete_cmd_postfix": ") ",
     "delete_cmd_prefix": "rm(",
     "library": "var_list.r",
     "varRefreshCmd": "cat(var_dic_list()) "
    }
   },
   "types_to_exclude": [
    "module",
    "function",
    "builtin_function_or_method",
    "instance",
    "_Feature"
   ],
   "window_display": false
  }
 },
 "nbformat": 4,
 "nbformat_minor": 2
}
