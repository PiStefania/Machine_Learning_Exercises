{
 "cells": [
  {
   "cell_type": "code",
   "execution_count": 1,
   "metadata": {},
   "outputs": [],
   "source": [
    "import sys\n",
    "import matplotlib.pyplot as plt\n",
    "import numpy as np\n",
    "import csv"
   ]
  },
  {
   "cell_type": "code",
   "execution_count": 2,
   "metadata": {},
   "outputs": [],
   "source": [
    "def load_data(file_name):\n",
    "\tlines = list()\n",
    "\tdataset = list()\n",
    "\t# Open file\n",
    "\twith open(file_name, 'rt') as f:\n",
    "\t\treader = csv.reader(f, delimiter=',')\n",
    "\t\t# Save each row in list lines\n",
    "\t\tfor row in reader:\n",
    "\t\t\tif (row != []):\n",
    "\t\t\t\tlines.append(row)\n",
    "\t# Iterate the list\n",
    "\tfor line in lines:\n",
    "\t\td = list()\n",
    "\t\t# Append the data to the list d\n",
    "\t\tfor item in line[0:len(line)-1]:\n",
    "\t\t\td.append(float(item))\n",
    "\t\td.append(0*(line[len(line)-1]=='Iris-setosa') +\n",
    "\t\t\t\t1*(line[len(line)-1]=='Iris-versicolor') +\n",
    "\t\t\t\t2*(line[len(line)-1]=='Iris-virginica'))\n",
    "\t\t# Otherwise append the 0 or 1 of the pima dataset\n",
    "\n",
    "\t\tdataset.append(d)\n",
    "\t# Return the results as 2 different arrays. The first is the data and the second are the classes.\n",
    "\treturn np.array(dataset)[:,0:len(dataset[0])-1], np.array(dataset)[:,len(dataset[0])-1]"
   ]
  },
  {
   "cell_type": "code",
   "execution_count": 3,
   "metadata": {},
   "outputs": [],
   "source": [
    "def f(x, w):\n",
    "\treturn 1 if np.dot(w,x)>0 else -1"
   ]
  },
  {
   "cell_type": "code",
   "execution_count": 4,
   "metadata": {},
   "outputs": [
    {
     "name": "stdout",
     "output_type": "stream",
     "text": [
      "[ 1.3  4.1 -5.2 -2.2]\n",
      "0  errors for  Iris-setosa\n",
      "[  40.9  -56.6   14.6 -139.8]\n",
      "Iris-versicolor is not linearly seperable\n",
      "[-145.  -147.6  186.7  256.9]\n",
      "Iris-virginica is not linearly seperable\n"
     ]
    }
   ],
   "source": [
    "def f(x, w):\n",
    "\treturn 1 if np.dot(w,x)>0 else -1\n",
    "\n",
    "iris = [\"Iris-setosa\", \"Iris-versicolor\", \"Iris-virginica\"]\n",
    "max_iter = 1000\n",
    "for c in range(0, 3):\n",
    "\tiris_data, iris_labels = load_data('UCIdata-exercise1/iris.data')\n",
    "\tfor j in range(len(iris_data)):\n",
    "\t\tif iris_labels[j] == c :\n",
    "\t\t\tiris_labels[j] = 1.0\n",
    "\t\telse:\n",
    "\t\t\tiris_labels[j] = -1.0\n",
    "\tdata = np.column_stack([iris_labels, iris_data])\n",
    "\n",
    "\t# Initialize Workspace\n",
    "\tpatterns = np.empty([len(data), 4])\n",
    "\tdw = np.zeros([4,])\n",
    "\tupdate_needed = np.empty([len(data), 1])\n",
    "\tinner_product = np.zeros([len(data), 1])\n",
    "\n",
    "\t# Copy data to our arrays\n",
    "\ttarget = data[:,0] # Class\n",
    "\tinitial_patterns = data[:,1:5] # Patterns\n",
    "\tfor i in range(0,150):\n",
    "\t\tpatterns[i] = target[i]*initial_patterns[i,:] #Class*Pattern\n",
    "\tweights = np.zeros([4,])\n",
    "\tfinished = False\n",
    "\titerations = 0\n",
    "\n",
    "\t# Run the algorithm\n",
    "\twhile(not(finished) and iterations<=max_iter):\n",
    "\t\titerations += 1\n",
    "\t\tfor i in range(0,150):\n",
    "\t\t\tinner_product[i] = np.dot(weights.reshape(4,),patterns[i,:])\n",
    "\t\t\tif(inner_product[i]<=0):\n",
    "\t\t\t\tupdate_needed[i]=1\n",
    "\t\t\t\tdw = patterns[i,:]\n",
    "\t\t\telse:\n",
    "\t\t\t\tupdate_needed[i]=0\n",
    "\t\t\t\tdw = np.zeros([4,])\n",
    "\t\t\tweights += dw\n",
    "\t\tfinished = sum(update_needed)==0\n",
    "\n",
    "\t# Show results\n",
    "\tprint(weights)\n",
    "\tif(iterations > max_iter):\n",
    "\t\tprint(iris[c], 'is not linearly seperable')\n",
    "\telse:\n",
    "\t\terrors = 0\n",
    "\t\tfor i in range(0, len(data)):\n",
    "\t\t\tif (f(initial_patterns[i,:], weights) != target[i]):\n",
    "\t\t\t\terrors += 1\n",
    "\t\tprint(errors,' errors for ', iris[c])"
   ]
  },
  {
   "cell_type": "code",
   "execution_count": null,
   "metadata": {},
   "outputs": [],
   "source": []
  }
 ],
 "metadata": {
  "kernelspec": {
   "display_name": "Python 3",
   "language": "python",
   "name": "python3"
  },
  "language_info": {
   "codemirror_mode": {
    "name": "ipython",
    "version": 3
   },
   "file_extension": ".py",
   "mimetype": "text/x-python",
   "name": "python",
   "nbconvert_exporter": "python",
   "pygments_lexer": "ipython3",
   "version": "3.6.8"
  }
 },
 "nbformat": 4,
 "nbformat_minor": 2
}
